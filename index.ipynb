{
 "cells": [
  {
   "cell_type": "markdown",
   "metadata": {},
   "source": [
    "# HTTP Request/Response Cycle - Lab\n",
    "\n",
    "## Introduction \n",
    "\n",
    "In this lab, we'll make use of the `requests` module commands and properties seen in the previous lesson, to extract information for a web service called **\"Open Notify\"** to access NASA's space data. \n",
    "\n",
    "## Objectives\n",
    "\n",
    "You will be able to:\n",
    "\n",
    "* Explain the HTTP request/response cycle\n",
    "* List the status codes of responses and their meanings\n",
    "* Obtain and interpret status codes from responses\n",
    "* Make HTTP GET and POST requests in python using the `requests` library\n",
    "\n",
    "## Open Notify \n",
    "\n",
    "[Open Notify](http://open-notify.org/)  is an an open source project to provide a simple programming interface for some of NASA’s awesome data. This takes live raw data from NASA's systems and turn them into APIs related to space and spacecraft. We can access the following information from open notify. \n",
    "\n",
    "* Current Location of the International Space Station\n",
    "\n",
    "* Number of People in Space\n",
    "\n",
    "* Overhead Pass Predictions for the International Space Station\n",
    "    \n",
    "### API endpoints\n",
    "\n",
    "Open Notify has several API endpoints. \n",
    ">An endpoint is a server route that is used to retrieve different data from the API. \n",
    "\n",
    "For example, the `/comments` endpoint on the Reddit API might retrieve information about comments, whereas the `/users` endpoint might retrieve data about users. To access them, you would add the endpoint to the base url of the API.\n",
    "\n",
    "For the OpenNotify API, we have the following endpoints: \n",
    "\n",
    "1. Current Location of the International Space Station `/iss-now.json`\n",
    "2. Number of People in Space `/astros.json`\n",
    "3. Overhead Pass Predictions for the International Space Station `/iss-pass.json`    \n",
    "\n",
    "The `.json` extension simply tells us that the data is being returned in a JSON format.\n",
    "\n",
    "In this lab, we'll be querying this API to retrieve live data about the International Space Station (ISS). Details on OpenNofity, endpoints, syntax, and the services it offers can be viewed [Here](http://open-notify.org/Open-Notify-API/)\n",
    "\n",
    "![](images/iss.jpg)\n",
    "\n",
    "### Current location of International Space Station\n",
    "\n",
    "The first endpoint we'll look at on Open Notify is the ` iss-now.json` endpoint (current location of international space station). This endpoint gets the current latitude and longitude of the International Space Station.  Perform the following tasks \n",
    "* Make a get request to get the latest position of the international space station from the opennotify api's `iss-now` endpoint at http://api.open-notify.org/iss-now.json\n",
    "* Check the status code of the response\n",
    "* Interpret the returned code"
   ]
  },
  {
   "cell_type": "code",
   "execution_count": 1,
   "metadata": {},
   "outputs": [],
   "source": [
    "import requests\n",
    "\n",
    "resp = requests.get('http://api.open-notify.org/iss-now.json')"
   ]
  },
  {
   "cell_type": "code",
   "execution_count": 12,
   "metadata": {},
   "outputs": [
    {
     "data": {
      "text/plain": [
       "True"
      ]
     },
     "execution_count": 12,
     "metadata": {},
     "output_type": "execute_result"
    }
   ],
   "source": [
    "resp.status_code == requests.codes.ok"
   ]
  },
  {
   "cell_type": "markdown",
   "metadata": {},
   "source": [
    "* Print the contents of the response and identify its current location"
   ]
  },
  {
   "cell_type": "code",
   "execution_count": 13,
   "metadata": {},
   "outputs": [
    {
     "name": "stdout",
     "output_type": "stream",
     "text": [
      "{\"message\": \"success\", \"iss_position\": {\"latitude\": \"21.1210\", \"longitude\": \"-135.3636\"}, \"timestamp\": 1653947270}\n"
     ]
    }
   ],
   "source": [
    "print(resp.text)"
   ]
  },
  {
   "cell_type": "code",
   "execution_count": 14,
   "metadata": {},
   "outputs": [
    {
     "data": {
      "text/plain": [
       "{'Server': 'nginx/1.10.3',\n",
       " 'Date': 'Mon, 30 May 2022 21:47:50 GMT',\n",
       " 'Content-Type': 'application/json',\n",
       " 'Content-Length': '114',\n",
       " 'Connection': 'keep-alive',\n",
       " 'access-control-allow-origin': '*'}"
      ]
     },
     "execution_count": 14,
     "metadata": {},
     "output_type": "execute_result"
    }
   ],
   "source": [
    "dict(resp.headers)"
   ]
  },
  {
   "cell_type": "markdown",
   "metadata": {},
   "source": [
    "### Number of people in space\n",
    "\n",
    "Let's repeat the above for the second endpoint, `astros.json`. It tells you how many people are currently in space. The format of the responses can be studied [HERE](http://open-notify.org/Open-Notify-API/People-In-Space/).\n",
    "\n",
    "Read the above documentation and perform the following tasks:\n",
    "\n",
    "* Get the response from astros.json endpoint\n",
    "* Count how many people are currently in space\n",
    "* List the names of people currently in space."
   ]
  },
  {
   "cell_type": "code",
   "execution_count": 16,
   "metadata": {},
   "outputs": [],
   "source": [
    "resp2 = requests.get('http://api.open-notify.org//astros.json')"
   ]
  },
  {
   "cell_type": "code",
   "execution_count": 17,
   "metadata": {},
   "outputs": [
    {
     "name": "stdout",
     "output_type": "stream",
     "text": [
      "{\"people\": [{\"craft\": \"ISS\", \"name\": \"Oleg Artemyev\"}, {\"craft\": \"ISS\", \"name\": \"Denis Matveev\"}, {\"craft\": \"ISS\", \"name\": \"Sergey Korsakov\"}, {\"craft\": \"ISS\", \"name\": \"Kjell Lindgren\"}, {\"craft\": \"ISS\", \"name\": \"Bob Hines\"}, {\"craft\": \"ISS\", \"name\": \"Samantha Cristoforetti\"}, {\"craft\": \"ISS\", \"name\": \"Jessica Watkins\"}], \"message\": \"success\", \"number\": 7}\n"
     ]
    }
   ],
   "source": [
    "print(resp2.text)"
   ]
  },
  {
   "cell_type": "markdown",
   "metadata": {},
   "source": [
    "## Level Up (Optional) - Investigating other API endpoints\n",
    "\n",
    "### Next pass of International space station for a given location\n",
    "\n",
    "Let's repeat the exercise for another endpoint `iss-pass.json`. This endpoint is used to query the next pass of the space station on a given location."
   ]
  },
  {
   "cell_type": "code",
   "execution_count": 18,
   "metadata": {},
   "outputs": [],
   "source": [
    "resp3 = requests.get('http://api.open-notify.org///iss-pass.json')"
   ]
  },
  {
   "cell_type": "code",
   "execution_count": 19,
   "metadata": {},
   "outputs": [
    {
     "name": "stdout",
     "output_type": "stream",
     "text": [
      "<!doctype html>\n",
      "<html>\n",
      "<head>\n",
      "  <meta http-equiv=\"Content-Type\" content=\"text/html; charset=UTF-8\" />\n",
      "  <link rel=\"stylesheet\" type=\"text/css\" href=\"/static/bootstrap.min.css\" />\n",
      "  <link rel=\"stylesheet\" type=\"text/css\" href=\"/static/style.css\" />\n",
      "\n",
      "  <title>open-notify.org APIs</title>\n",
      "</head>\n",
      "<body>\n",
      "\n",
      "  <div id=\"wrapper\">\n",
      "  <div id=\"content\">\n",
      "  <div id=\"header\">\n",
      "    <div class=\"container\">\n",
      "      <div class=\"navbar\">\n",
      "        <a class=\"brand\" href=\"http://www.open-notify.org\">Open Notify</a>\n",
      "        <h2>API Server</h2>\n",
      "      </div>\n",
      "    </div>\n",
      "  </div>\n",
      "\n",
      "  <div class=\"container\">\n",
      "    <div class=\"page-header\">\n",
      "      <h3>Current APIs:</h3>\n",
      "    </div>\n",
      "    <div class=\"row\">\n",
      "      <div class=\"span12\">\n",
      "\n",
      "        <h4>JSON</h4>\n",
      "        <p>\n",
      "          <table class=\"table table-bordered table-striped\">\n",
      "            <thead>\n",
      "              <tr>\n",
      "                <th>Name</th>\n",
      "                <th>Description</th>\n",
      "                <th>Documentation</th>\n",
      "              </tr>\n",
      "            </thead> \n",
      "\n",
      "            \n",
      "            <tbody>\n",
      "              <tr>\n",
      "                <td><a href=\"/iss-now.json\">ISS Location Now</a></td>\n",
      "                <td>Current ISS location over Earth (latitude/longitude)</td>\n",
      "                <td><a href=\"http://open-notify.org/Open-Notify-API/ISS-Location-Now\">ISS-Location-Now</a></td>\n",
      "              </tr>\n",
      "            </tbody>\n",
      "            \n",
      "            <tbody>\n",
      "              <tr>\n",
      "                <td><a href=\"/iss-pass.json?lat=45.0&amp;lon=-122.3\">ISS Pass Times</a></td>\n",
      "                <td>Predictions when the space station will fly over a particular location</td>\n",
      "                <td><a href=\"http://open-notify.org/Open-Notify-API/ISS-Pass-Times\">ISS-Pass-Times</a></td>\n",
      "              </tr>\n",
      "            </tbody>\n",
      "            \n",
      "            <tbody>\n",
      "              <tr>\n",
      "                <td><a href=\"/astros.json\">People in Space Right Now</a></td>\n",
      "                <td>The number of people in space at this moment. List of names when known.</td>\n",
      "                <td><a href=\"http://open-notify.org/Open-Notify-API/People-In-Space\">People-In-Space</a></td>\n",
      "              </tr>\n",
      "            </tbody>\n",
      "            \n",
      "\n",
      "          </table>\n",
      "        </p>\n",
      "      </div>\n",
      "    </div>\n",
      "\n",
      "    <div class=\"page-header\">\n",
      "      <h3>Source Code</h3>\n",
      "    </div>\n",
      "    <div class=\"row\">\n",
      "      <div class=\"span12\">\n",
      "        <p>\n",
      "          Source code for the ISS APIs: <a href=\"https://github.com/open-notify/Open-Notify-API\">github.com/open-notify/Open-Notify-API</a>\n",
      "        </p>\n",
      "      </div>\n",
      "    </div>\n",
      "\n",
      "  </div>\n",
      "  </div>\n",
      "  </div>\n",
      "  \n",
      "  <div id=\"footer\">\n",
      "    <div class=\"container\">\n",
      "      <hr />\n",
      "      Made by <a href=\"https://twitter.com/natronics\">@natronics</a>\n",
      "    </div>\n",
      "  </div>\n",
      "\n",
      "</body>\n",
      "</html>\n"
     ]
    }
   ],
   "source": [
    "print(resp3.text)"
   ]
  },
  {
   "cell_type": "markdown",
   "metadata": {},
   "source": [
    "The status code for the end point returned is 400, which indicates a client error. To see more detailed information, we can use `response.text` instead of `response.status_code`. "
   ]
  },
  {
   "cell_type": "code",
   "execution_count": 22,
   "metadata": {},
   "outputs": [
    {
     "data": {
      "text/plain": [
       "200"
      ]
     },
     "execution_count": 22,
     "metadata": {},
     "output_type": "execute_result"
    }
   ],
   "source": [
    "resp3.status_code"
   ]
  },
  {
   "cell_type": "markdown",
   "metadata": {},
   "source": [
    "This endpoint is not visible from the documentation, but we can navigate to the source code of Open Notify and see if we can gain more information on how to use this endpoint.\n",
    "\n",
    "Click on the `Source Code` Tab, and navigate to the Open Notify GitHub repository.\n",
    "\n",
    "https://github.com/open-notify/Open-Notify-API\n",
    "\n",
    "If we look at the API spec this endpoint, we see that the ISS Pass endpoint requires two parameters.\n",
    "\n",
    "https://github.com/open-notify/Open-Notify-API/blob/master/app.py#L103\n",
    "\n",
    ">  The API returns a list of upcoming ISS passes for a particular location formatted as JSON. As input it expects a latitude/longitude pair, altitude and how many results to return. All fields are required.\n",
    "\n",
    "We can do this by adding an optional keyword argument, `params`, to our request. In this case, there are two parameters we need to pass:\n",
    "\n",
    "* `lat` -- The latitude of the location we want.\n",
    "* `lon` -- The longitude of the location we want.\n",
    "\n",
    "Perform the following tasks :\n",
    "* Set parameters to reflect the lat and long of New York  (40.71, -74)\n",
    "* Send a get request to Open Notify passing in the lat long parameters as k:v pairs in a dictionary\n",
    "* Check the status code and interpret\n",
    "* Print the header information and the returned content"
   ]
  },
  {
   "cell_type": "code",
   "execution_count": null,
   "metadata": {},
   "outputs": [],
   "source": [
    "# Your Code Here"
   ]
  },
  {
   "cell_type": "code",
   "execution_count": null,
   "metadata": {},
   "outputs": [],
   "source": [
    "# Check the API and interpret your results - when will ISS pass over NEW York next ?"
   ]
  },
  {
   "cell_type": "markdown",
   "metadata": {},
   "source": [
    "## Summary \n",
    "\n",
    "In this lesson, we saw how we can use request and response methods to query an Open API. We also saw how to look at the contents returned with the API calls and how to parse them. Next, we'll look at connecting to APIs which are not OPEN, i.e. we would need to pass in some authentication information and filter the results. "
   ]
  },
  {
   "cell_type": "code",
   "execution_count": null,
   "metadata": {},
   "outputs": [],
   "source": []
  }
 ],
 "metadata": {
  "kernelspec": {
   "display_name": "Python 3",
   "language": "python",
   "name": "python3"
  },
  "language_info": {
   "codemirror_mode": {
    "name": "ipython",
    "version": 3
   },
   "file_extension": ".py",
   "mimetype": "text/x-python",
   "name": "python",
   "nbconvert_exporter": "python",
   "pygments_lexer": "ipython3",
   "version": "3.8.5"
  },
  "toc": {
   "base_numbering": 1,
   "nav_menu": {},
   "number_sections": true,
   "sideBar": true,
   "skip_h1_title": false,
   "title_cell": "Table of Contents",
   "title_sidebar": "Contents",
   "toc_cell": false,
   "toc_position": {},
   "toc_section_display": true,
   "toc_window_display": false
  }
 },
 "nbformat": 4,
 "nbformat_minor": 2
}
